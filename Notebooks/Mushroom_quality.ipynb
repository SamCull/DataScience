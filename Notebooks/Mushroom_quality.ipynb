{
 "cells": [
  {
   "cell_type": "code",
   "execution_count": 1,
   "id": "dd265617",
   "metadata": {},
   "outputs": [],
   "source": [
    "import pandas as pd\n",
    "import numpy as np\n",
    "import seaborn as sns\n",
    "from tensorflow import keras"
   ]
  },
  {
   "cell_type": "code",
   "execution_count": 2,
   "id": "a0c842b4",
   "metadata": {},
   "outputs": [
    {
     "data": {
      "text/html": [
       "<div>\n",
       "<style scoped>\n",
       "    .dataframe tbody tr th:only-of-type {\n",
       "        vertical-align: middle;\n",
       "    }\n",
       "\n",
       "    .dataframe tbody tr th {\n",
       "        vertical-align: top;\n",
       "    }\n",
       "\n",
       "    .dataframe thead th {\n",
       "        text-align: right;\n",
       "    }\n",
       "</style>\n",
       "<table border=\"1\" class=\"dataframe\">\n",
       "  <thead>\n",
       "    <tr style=\"text-align: right;\">\n",
       "      <th></th>\n",
       "      <th>class</th>\n",
       "      <th>cap-shape</th>\n",
       "      <th>cap-surface</th>\n",
       "      <th>cap-color</th>\n",
       "      <th>bruises</th>\n",
       "      <th>odor</th>\n",
       "      <th>gill-attachment</th>\n",
       "      <th>gill-spacing</th>\n",
       "      <th>gill-size</th>\n",
       "      <th>gill-color</th>\n",
       "      <th>...</th>\n",
       "      <th>stalk-surface-below-ring</th>\n",
       "      <th>stalk-color-above-ring</th>\n",
       "      <th>stalk-color-below-ring</th>\n",
       "      <th>veil-type</th>\n",
       "      <th>veil-color</th>\n",
       "      <th>ring-number</th>\n",
       "      <th>ring-type</th>\n",
       "      <th>spore-print-color</th>\n",
       "      <th>population</th>\n",
       "      <th>habitat</th>\n",
       "    </tr>\n",
       "  </thead>\n",
       "  <tbody>\n",
       "    <tr>\n",
       "      <th>0</th>\n",
       "      <td>p</td>\n",
       "      <td>x</td>\n",
       "      <td>s</td>\n",
       "      <td>n</td>\n",
       "      <td>t</td>\n",
       "      <td>p</td>\n",
       "      <td>f</td>\n",
       "      <td>c</td>\n",
       "      <td>n</td>\n",
       "      <td>k</td>\n",
       "      <td>...</td>\n",
       "      <td>s</td>\n",
       "      <td>w</td>\n",
       "      <td>w</td>\n",
       "      <td>p</td>\n",
       "      <td>w</td>\n",
       "      <td>o</td>\n",
       "      <td>p</td>\n",
       "      <td>k</td>\n",
       "      <td>s</td>\n",
       "      <td>u</td>\n",
       "    </tr>\n",
       "    <tr>\n",
       "      <th>1</th>\n",
       "      <td>e</td>\n",
       "      <td>x</td>\n",
       "      <td>s</td>\n",
       "      <td>y</td>\n",
       "      <td>t</td>\n",
       "      <td>a</td>\n",
       "      <td>f</td>\n",
       "      <td>c</td>\n",
       "      <td>b</td>\n",
       "      <td>k</td>\n",
       "      <td>...</td>\n",
       "      <td>s</td>\n",
       "      <td>w</td>\n",
       "      <td>w</td>\n",
       "      <td>p</td>\n",
       "      <td>w</td>\n",
       "      <td>o</td>\n",
       "      <td>p</td>\n",
       "      <td>n</td>\n",
       "      <td>n</td>\n",
       "      <td>g</td>\n",
       "    </tr>\n",
       "    <tr>\n",
       "      <th>2</th>\n",
       "      <td>e</td>\n",
       "      <td>b</td>\n",
       "      <td>s</td>\n",
       "      <td>w</td>\n",
       "      <td>t</td>\n",
       "      <td>l</td>\n",
       "      <td>f</td>\n",
       "      <td>c</td>\n",
       "      <td>b</td>\n",
       "      <td>n</td>\n",
       "      <td>...</td>\n",
       "      <td>s</td>\n",
       "      <td>w</td>\n",
       "      <td>w</td>\n",
       "      <td>p</td>\n",
       "      <td>w</td>\n",
       "      <td>o</td>\n",
       "      <td>p</td>\n",
       "      <td>n</td>\n",
       "      <td>n</td>\n",
       "      <td>m</td>\n",
       "    </tr>\n",
       "    <tr>\n",
       "      <th>3</th>\n",
       "      <td>p</td>\n",
       "      <td>x</td>\n",
       "      <td>y</td>\n",
       "      <td>w</td>\n",
       "      <td>t</td>\n",
       "      <td>p</td>\n",
       "      <td>f</td>\n",
       "      <td>c</td>\n",
       "      <td>n</td>\n",
       "      <td>n</td>\n",
       "      <td>...</td>\n",
       "      <td>s</td>\n",
       "      <td>w</td>\n",
       "      <td>w</td>\n",
       "      <td>p</td>\n",
       "      <td>w</td>\n",
       "      <td>o</td>\n",
       "      <td>p</td>\n",
       "      <td>k</td>\n",
       "      <td>s</td>\n",
       "      <td>u</td>\n",
       "    </tr>\n",
       "    <tr>\n",
       "      <th>4</th>\n",
       "      <td>e</td>\n",
       "      <td>x</td>\n",
       "      <td>s</td>\n",
       "      <td>g</td>\n",
       "      <td>f</td>\n",
       "      <td>n</td>\n",
       "      <td>f</td>\n",
       "      <td>w</td>\n",
       "      <td>b</td>\n",
       "      <td>k</td>\n",
       "      <td>...</td>\n",
       "      <td>s</td>\n",
       "      <td>w</td>\n",
       "      <td>w</td>\n",
       "      <td>p</td>\n",
       "      <td>w</td>\n",
       "      <td>o</td>\n",
       "      <td>e</td>\n",
       "      <td>n</td>\n",
       "      <td>a</td>\n",
       "      <td>g</td>\n",
       "    </tr>\n",
       "  </tbody>\n",
       "</table>\n",
       "<p>5 rows × 23 columns</p>\n",
       "</div>"
      ],
      "text/plain": [
       "  class cap-shape cap-surface cap-color bruises odor gill-attachment  \\\n",
       "0     p         x           s         n       t    p               f   \n",
       "1     e         x           s         y       t    a               f   \n",
       "2     e         b           s         w       t    l               f   \n",
       "3     p         x           y         w       t    p               f   \n",
       "4     e         x           s         g       f    n               f   \n",
       "\n",
       "  gill-spacing gill-size gill-color  ... stalk-surface-below-ring  \\\n",
       "0            c         n          k  ...                        s   \n",
       "1            c         b          k  ...                        s   \n",
       "2            c         b          n  ...                        s   \n",
       "3            c         n          n  ...                        s   \n",
       "4            w         b          k  ...                        s   \n",
       "\n",
       "  stalk-color-above-ring stalk-color-below-ring veil-type veil-color  \\\n",
       "0                      w                      w         p          w   \n",
       "1                      w                      w         p          w   \n",
       "2                      w                      w         p          w   \n",
       "3                      w                      w         p          w   \n",
       "4                      w                      w         p          w   \n",
       "\n",
       "  ring-number ring-type spore-print-color population habitat  \n",
       "0           o         p                 k          s       u  \n",
       "1           o         p                 n          n       g  \n",
       "2           o         p                 n          n       m  \n",
       "3           o         p                 k          s       u  \n",
       "4           o         e                 n          a       g  \n",
       "\n",
       "[5 rows x 23 columns]"
      ]
     },
     "execution_count": 2,
     "metadata": {},
     "output_type": "execute_result"
    }
   ],
   "source": [
    "df = pd.read_csv('mushrooms.csv')\n",
    "df.head()"
   ]
  },
  {
   "cell_type": "code",
   "execution_count": 3,
   "id": "b8d74d73",
   "metadata": {},
   "outputs": [
    {
     "name": "stdout",
     "output_type": "stream",
     "text": [
      "<class 'pandas.core.frame.DataFrame'>\n",
      "RangeIndex: 8124 entries, 0 to 8123\n",
      "Data columns (total 23 columns):\n",
      " #   Column                    Non-Null Count  Dtype \n",
      "---  ------                    --------------  ----- \n",
      " 0   class                     8124 non-null   object\n",
      " 1   cap-shape                 8124 non-null   object\n",
      " 2   cap-surface               8124 non-null   object\n",
      " 3   cap-color                 8124 non-null   object\n",
      " 4   bruises                   8124 non-null   object\n",
      " 5   odor                      8124 non-null   object\n",
      " 6   gill-attachment           8124 non-null   object\n",
      " 7   gill-spacing              8124 non-null   object\n",
      " 8   gill-size                 8124 non-null   object\n",
      " 9   gill-color                8124 non-null   object\n",
      " 10  stalk-shape               8124 non-null   object\n",
      " 11  stalk-root                8124 non-null   object\n",
      " 12  stalk-surface-above-ring  8124 non-null   object\n",
      " 13  stalk-surface-below-ring  8124 non-null   object\n",
      " 14  stalk-color-above-ring    8124 non-null   object\n",
      " 15  stalk-color-below-ring    8124 non-null   object\n",
      " 16  veil-type                 8124 non-null   object\n",
      " 17  veil-color                8124 non-null   object\n",
      " 18  ring-number               8124 non-null   object\n",
      " 19  ring-type                 8124 non-null   object\n",
      " 20  spore-print-color         8124 non-null   object\n",
      " 21  population                8124 non-null   object\n",
      " 22  habitat                   8124 non-null   object\n",
      "dtypes: object(23)\n",
      "memory usage: 1.4+ MB\n"
     ]
    }
   ],
   "source": [
    "df.info()"
   ]
  },
  {
   "cell_type": "code",
   "execution_count": 6,
   "id": "cea694bd",
   "metadata": {},
   "outputs": [
    {
     "data": {
      "text/plain": [
       "class                       0\n",
       "cap-shape                   0\n",
       "cap-surface                 0\n",
       "cap-color                   0\n",
       "bruises                     0\n",
       "odor                        0\n",
       "gill-attachment             0\n",
       "gill-spacing                0\n",
       "gill-size                   0\n",
       "gill-color                  0\n",
       "stalk-shape                 0\n",
       "stalk-root                  0\n",
       "stalk-surface-above-ring    0\n",
       "stalk-surface-below-ring    0\n",
       "stalk-color-above-ring      0\n",
       "stalk-color-below-ring      0\n",
       "veil-type                   0\n",
       "veil-color                  0\n",
       "ring-number                 0\n",
       "ring-type                   0\n",
       "spore-print-color           0\n",
       "population                  0\n",
       "habitat                     0\n",
       "dtype: int64"
      ]
     },
     "execution_count": 6,
     "metadata": {},
     "output_type": "execute_result"
    }
   ],
   "source": [
    "df.isnull().sum()"
   ]
  },
  {
   "cell_type": "code",
   "execution_count": 7,
   "id": "475eebf1",
   "metadata": {},
   "outputs": [
    {
     "data": {
      "text/plain": [
       "e    4208\n",
       "p    3916\n",
       "Name: class, dtype: int64"
      ]
     },
     "execution_count": 7,
     "metadata": {},
     "output_type": "execute_result"
    }
   ],
   "source": [
    "df['class'].value_counts()"
   ]
  },
  {
   "cell_type": "code",
   "execution_count": 8,
   "id": "b75df3a3",
   "metadata": {},
   "outputs": [
    {
     "data": {
      "text/plain": [
       "n    2284\n",
       "g    1840\n",
       "e    1500\n",
       "y    1072\n",
       "w    1040\n",
       "b     168\n",
       "p     144\n",
       "c      44\n",
       "u      16\n",
       "r      16\n",
       "Name: cap-color, dtype: int64"
      ]
     },
     "execution_count": 8,
     "metadata": {},
     "output_type": "execute_result"
    }
   ],
   "source": [
    "df['cap-color'].value_counts()"
   ]
  },
  {
   "cell_type": "code",
   "execution_count": 9,
   "id": "af3aeb6f",
   "metadata": {},
   "outputs": [],
   "source": [
    "from sklearn.preprocessing import LabelEncoder\n",
    "le = LabelEncoder()"
   ]
  },
  {
   "cell_type": "code",
   "execution_count": 11,
   "id": "590a88ac",
   "metadata": {},
   "outputs": [],
   "source": [
    "for col in df.columns:\n",
    "    df[col] = le.fit_transform(df[col])"
   ]
  },
  {
   "cell_type": "code",
   "execution_count": 12,
   "id": "eaece124",
   "metadata": {},
   "outputs": [
    {
     "data": {
      "text/html": [
       "<div>\n",
       "<style scoped>\n",
       "    .dataframe tbody tr th:only-of-type {\n",
       "        vertical-align: middle;\n",
       "    }\n",
       "\n",
       "    .dataframe tbody tr th {\n",
       "        vertical-align: top;\n",
       "    }\n",
       "\n",
       "    .dataframe thead th {\n",
       "        text-align: right;\n",
       "    }\n",
       "</style>\n",
       "<table border=\"1\" class=\"dataframe\">\n",
       "  <thead>\n",
       "    <tr style=\"text-align: right;\">\n",
       "      <th></th>\n",
       "      <th>class</th>\n",
       "      <th>cap-shape</th>\n",
       "      <th>cap-surface</th>\n",
       "      <th>cap-color</th>\n",
       "      <th>bruises</th>\n",
       "      <th>odor</th>\n",
       "      <th>gill-attachment</th>\n",
       "      <th>gill-spacing</th>\n",
       "      <th>gill-size</th>\n",
       "      <th>gill-color</th>\n",
       "      <th>...</th>\n",
       "      <th>stalk-surface-below-ring</th>\n",
       "      <th>stalk-color-above-ring</th>\n",
       "      <th>stalk-color-below-ring</th>\n",
       "      <th>veil-type</th>\n",
       "      <th>veil-color</th>\n",
       "      <th>ring-number</th>\n",
       "      <th>ring-type</th>\n",
       "      <th>spore-print-color</th>\n",
       "      <th>population</th>\n",
       "      <th>habitat</th>\n",
       "    </tr>\n",
       "  </thead>\n",
       "  <tbody>\n",
       "    <tr>\n",
       "      <th>0</th>\n",
       "      <td>1</td>\n",
       "      <td>5</td>\n",
       "      <td>2</td>\n",
       "      <td>4</td>\n",
       "      <td>1</td>\n",
       "      <td>6</td>\n",
       "      <td>1</td>\n",
       "      <td>0</td>\n",
       "      <td>1</td>\n",
       "      <td>4</td>\n",
       "      <td>...</td>\n",
       "      <td>2</td>\n",
       "      <td>7</td>\n",
       "      <td>7</td>\n",
       "      <td>0</td>\n",
       "      <td>2</td>\n",
       "      <td>1</td>\n",
       "      <td>4</td>\n",
       "      <td>2</td>\n",
       "      <td>3</td>\n",
       "      <td>5</td>\n",
       "    </tr>\n",
       "    <tr>\n",
       "      <th>1</th>\n",
       "      <td>0</td>\n",
       "      <td>5</td>\n",
       "      <td>2</td>\n",
       "      <td>9</td>\n",
       "      <td>1</td>\n",
       "      <td>0</td>\n",
       "      <td>1</td>\n",
       "      <td>0</td>\n",
       "      <td>0</td>\n",
       "      <td>4</td>\n",
       "      <td>...</td>\n",
       "      <td>2</td>\n",
       "      <td>7</td>\n",
       "      <td>7</td>\n",
       "      <td>0</td>\n",
       "      <td>2</td>\n",
       "      <td>1</td>\n",
       "      <td>4</td>\n",
       "      <td>3</td>\n",
       "      <td>2</td>\n",
       "      <td>1</td>\n",
       "    </tr>\n",
       "    <tr>\n",
       "      <th>2</th>\n",
       "      <td>0</td>\n",
       "      <td>0</td>\n",
       "      <td>2</td>\n",
       "      <td>8</td>\n",
       "      <td>1</td>\n",
       "      <td>3</td>\n",
       "      <td>1</td>\n",
       "      <td>0</td>\n",
       "      <td>0</td>\n",
       "      <td>5</td>\n",
       "      <td>...</td>\n",
       "      <td>2</td>\n",
       "      <td>7</td>\n",
       "      <td>7</td>\n",
       "      <td>0</td>\n",
       "      <td>2</td>\n",
       "      <td>1</td>\n",
       "      <td>4</td>\n",
       "      <td>3</td>\n",
       "      <td>2</td>\n",
       "      <td>3</td>\n",
       "    </tr>\n",
       "    <tr>\n",
       "      <th>3</th>\n",
       "      <td>1</td>\n",
       "      <td>5</td>\n",
       "      <td>3</td>\n",
       "      <td>8</td>\n",
       "      <td>1</td>\n",
       "      <td>6</td>\n",
       "      <td>1</td>\n",
       "      <td>0</td>\n",
       "      <td>1</td>\n",
       "      <td>5</td>\n",
       "      <td>...</td>\n",
       "      <td>2</td>\n",
       "      <td>7</td>\n",
       "      <td>7</td>\n",
       "      <td>0</td>\n",
       "      <td>2</td>\n",
       "      <td>1</td>\n",
       "      <td>4</td>\n",
       "      <td>2</td>\n",
       "      <td>3</td>\n",
       "      <td>5</td>\n",
       "    </tr>\n",
       "    <tr>\n",
       "      <th>4</th>\n",
       "      <td>0</td>\n",
       "      <td>5</td>\n",
       "      <td>2</td>\n",
       "      <td>3</td>\n",
       "      <td>0</td>\n",
       "      <td>5</td>\n",
       "      <td>1</td>\n",
       "      <td>1</td>\n",
       "      <td>0</td>\n",
       "      <td>4</td>\n",
       "      <td>...</td>\n",
       "      <td>2</td>\n",
       "      <td>7</td>\n",
       "      <td>7</td>\n",
       "      <td>0</td>\n",
       "      <td>2</td>\n",
       "      <td>1</td>\n",
       "      <td>0</td>\n",
       "      <td>3</td>\n",
       "      <td>0</td>\n",
       "      <td>1</td>\n",
       "    </tr>\n",
       "  </tbody>\n",
       "</table>\n",
       "<p>5 rows × 23 columns</p>\n",
       "</div>"
      ],
      "text/plain": [
       "   class  cap-shape  cap-surface  cap-color  bruises  odor  gill-attachment  \\\n",
       "0      1          5            2          4        1     6                1   \n",
       "1      0          5            2          9        1     0                1   \n",
       "2      0          0            2          8        1     3                1   \n",
       "3      1          5            3          8        1     6                1   \n",
       "4      0          5            2          3        0     5                1   \n",
       "\n",
       "   gill-spacing  gill-size  gill-color  ...  stalk-surface-below-ring  \\\n",
       "0             0          1           4  ...                         2   \n",
       "1             0          0           4  ...                         2   \n",
       "2             0          0           5  ...                         2   \n",
       "3             0          1           5  ...                         2   \n",
       "4             1          0           4  ...                         2   \n",
       "\n",
       "   stalk-color-above-ring  stalk-color-below-ring  veil-type  veil-color  \\\n",
       "0                       7                       7          0           2   \n",
       "1                       7                       7          0           2   \n",
       "2                       7                       7          0           2   \n",
       "3                       7                       7          0           2   \n",
       "4                       7                       7          0           2   \n",
       "\n",
       "   ring-number  ring-type  spore-print-color  population  habitat  \n",
       "0            1          4                  2           3        5  \n",
       "1            1          4                  3           2        1  \n",
       "2            1          4                  3           2        3  \n",
       "3            1          4                  2           3        5  \n",
       "4            1          0                  3           0        1  \n",
       "\n",
       "[5 rows x 23 columns]"
      ]
     },
     "execution_count": 12,
     "metadata": {},
     "output_type": "execute_result"
    }
   ],
   "source": [
    "df.head()"
   ]
  },
  {
   "cell_type": "code",
   "execution_count": 13,
   "id": "bbfd6b84",
   "metadata": {},
   "outputs": [],
   "source": [
    "X = df.drop(columns='class')\n",
    "y = df['class']"
   ]
  },
  {
   "cell_type": "code",
   "execution_count": 14,
   "id": "1cd99ad4",
   "metadata": {},
   "outputs": [
    {
     "data": {
      "text/html": [
       "<div>\n",
       "<style scoped>\n",
       "    .dataframe tbody tr th:only-of-type {\n",
       "        vertical-align: middle;\n",
       "    }\n",
       "\n",
       "    .dataframe tbody tr th {\n",
       "        vertical-align: top;\n",
       "    }\n",
       "\n",
       "    .dataframe thead th {\n",
       "        text-align: right;\n",
       "    }\n",
       "</style>\n",
       "<table border=\"1\" class=\"dataframe\">\n",
       "  <thead>\n",
       "    <tr style=\"text-align: right;\">\n",
       "      <th></th>\n",
       "      <th>cap-shape</th>\n",
       "      <th>cap-surface</th>\n",
       "      <th>cap-color</th>\n",
       "      <th>bruises</th>\n",
       "      <th>odor</th>\n",
       "      <th>gill-attachment</th>\n",
       "      <th>gill-spacing</th>\n",
       "      <th>gill-size</th>\n",
       "      <th>gill-color</th>\n",
       "      <th>stalk-shape</th>\n",
       "      <th>...</th>\n",
       "      <th>stalk-surface-below-ring</th>\n",
       "      <th>stalk-color-above-ring</th>\n",
       "      <th>stalk-color-below-ring</th>\n",
       "      <th>veil-type</th>\n",
       "      <th>veil-color</th>\n",
       "      <th>ring-number</th>\n",
       "      <th>ring-type</th>\n",
       "      <th>spore-print-color</th>\n",
       "      <th>population</th>\n",
       "      <th>habitat</th>\n",
       "    </tr>\n",
       "  </thead>\n",
       "  <tbody>\n",
       "    <tr>\n",
       "      <th>0</th>\n",
       "      <td>5</td>\n",
       "      <td>2</td>\n",
       "      <td>4</td>\n",
       "      <td>1</td>\n",
       "      <td>6</td>\n",
       "      <td>1</td>\n",
       "      <td>0</td>\n",
       "      <td>1</td>\n",
       "      <td>4</td>\n",
       "      <td>0</td>\n",
       "      <td>...</td>\n",
       "      <td>2</td>\n",
       "      <td>7</td>\n",
       "      <td>7</td>\n",
       "      <td>0</td>\n",
       "      <td>2</td>\n",
       "      <td>1</td>\n",
       "      <td>4</td>\n",
       "      <td>2</td>\n",
       "      <td>3</td>\n",
       "      <td>5</td>\n",
       "    </tr>\n",
       "    <tr>\n",
       "      <th>1</th>\n",
       "      <td>5</td>\n",
       "      <td>2</td>\n",
       "      <td>9</td>\n",
       "      <td>1</td>\n",
       "      <td>0</td>\n",
       "      <td>1</td>\n",
       "      <td>0</td>\n",
       "      <td>0</td>\n",
       "      <td>4</td>\n",
       "      <td>0</td>\n",
       "      <td>...</td>\n",
       "      <td>2</td>\n",
       "      <td>7</td>\n",
       "      <td>7</td>\n",
       "      <td>0</td>\n",
       "      <td>2</td>\n",
       "      <td>1</td>\n",
       "      <td>4</td>\n",
       "      <td>3</td>\n",
       "      <td>2</td>\n",
       "      <td>1</td>\n",
       "    </tr>\n",
       "    <tr>\n",
       "      <th>2</th>\n",
       "      <td>0</td>\n",
       "      <td>2</td>\n",
       "      <td>8</td>\n",
       "      <td>1</td>\n",
       "      <td>3</td>\n",
       "      <td>1</td>\n",
       "      <td>0</td>\n",
       "      <td>0</td>\n",
       "      <td>5</td>\n",
       "      <td>0</td>\n",
       "      <td>...</td>\n",
       "      <td>2</td>\n",
       "      <td>7</td>\n",
       "      <td>7</td>\n",
       "      <td>0</td>\n",
       "      <td>2</td>\n",
       "      <td>1</td>\n",
       "      <td>4</td>\n",
       "      <td>3</td>\n",
       "      <td>2</td>\n",
       "      <td>3</td>\n",
       "    </tr>\n",
       "  </tbody>\n",
       "</table>\n",
       "<p>3 rows × 22 columns</p>\n",
       "</div>"
      ],
      "text/plain": [
       "   cap-shape  cap-surface  cap-color  bruises  odor  gill-attachment  \\\n",
       "0          5            2          4        1     6                1   \n",
       "1          5            2          9        1     0                1   \n",
       "2          0            2          8        1     3                1   \n",
       "\n",
       "   gill-spacing  gill-size  gill-color  stalk-shape  ...  \\\n",
       "0             0          1           4            0  ...   \n",
       "1             0          0           4            0  ...   \n",
       "2             0          0           5            0  ...   \n",
       "\n",
       "   stalk-surface-below-ring  stalk-color-above-ring  stalk-color-below-ring  \\\n",
       "0                         2                       7                       7   \n",
       "1                         2                       7                       7   \n",
       "2                         2                       7                       7   \n",
       "\n",
       "   veil-type  veil-color  ring-number  ring-type  spore-print-color  \\\n",
       "0          0           2            1          4                  2   \n",
       "1          0           2            1          4                  3   \n",
       "2          0           2            1          4                  3   \n",
       "\n",
       "   population  habitat  \n",
       "0           3        5  \n",
       "1           2        1  \n",
       "2           2        3  \n",
       "\n",
       "[3 rows x 22 columns]"
      ]
     },
     "execution_count": 14,
     "metadata": {},
     "output_type": "execute_result"
    }
   ],
   "source": [
    "X.head(3)"
   ]
  },
  {
   "cell_type": "code",
   "execution_count": 15,
   "id": "49a1d053",
   "metadata": {},
   "outputs": [
    {
     "data": {
      "text/plain": [
       "0    1\n",
       "1    0\n",
       "2    0\n",
       "Name: class, dtype: int64"
      ]
     },
     "execution_count": 15,
     "metadata": {},
     "output_type": "execute_result"
    }
   ],
   "source": [
    "y.head(3)"
   ]
  },
  {
   "cell_type": "code",
   "execution_count": 16,
   "id": "168762b1",
   "metadata": {},
   "outputs": [],
   "source": [
    "from sklearn.model_selection import train_test_split\n",
    "x_train, x_test, y_train, y_test = train_test_split(X , y, test_size=0.25, shuffle=True, random_state=69)"
   ]
  },
  {
   "cell_type": "code",
   "execution_count": 17,
   "id": "ab96f41e",
   "metadata": {},
   "outputs": [
    {
     "data": {
      "text/plain": [
       "(6093, 22)"
      ]
     },
     "execution_count": 17,
     "metadata": {},
     "output_type": "execute_result"
    }
   ],
   "source": [
    "x_train.shape"
   ]
  },
  {
   "cell_type": "code",
   "execution_count": 18,
   "id": "fb4a6503",
   "metadata": {},
   "outputs": [
    {
     "name": "stdout",
     "output_type": "stream",
     "text": [
      "7551    1\n",
      "6671    1\n",
      "2346    0\n",
      "1115    0\n",
      "4179    0\n",
      "Name: class, dtype: int64\n",
      "[[0. 1.]\n",
      " [0. 1.]\n",
      " [1. 0.]\n",
      " [1. 0.]\n",
      " [1. 0.]]\n"
     ]
    },
    {
     "name": "stderr",
     "output_type": "stream",
     "text": [
      "/var/folders/75/fyf8yn3s0h3chmlrq431v9kr0000gn/T/ipykernel_13466/2922295489.py:1: FutureWarning: The behavior of `series[i:j]` with an integer-dtype index is deprecated. In a future version, this will be treated as *label-based* indexing, consistent with e.g. `series[i]` lookups. To retain the old behavior, use `series.iloc[i:j]`. To get the future behavior, use `series.loc[i:j]`.\n",
      "  print(y_train[:5])\n"
     ]
    }
   ],
   "source": [
    "print(y_train[:5])\n",
    "\n",
    "y_train = keras.utils.to_categorical(y_train, num_classes=2)\n",
    "\n",
    "print(y_train[:5])"
   ]
  },
  {
   "cell_type": "code",
   "execution_count": 19,
   "id": "bdc97ecd",
   "metadata": {},
   "outputs": [],
   "source": [
    "from keras.models import Sequential\n",
    "from keras.layers import Dense, Dropout"
   ]
  },
  {
   "cell_type": "code",
   "execution_count": 20,
   "id": "1dba2f6b",
   "metadata": {},
   "outputs": [
    {
     "name": "stdout",
     "output_type": "stream",
     "text": [
      "Metal device set to: Apple M1\n"
     ]
    },
    {
     "name": "stderr",
     "output_type": "stream",
     "text": [
      "2023-03-22 04:25:20.019860: I tensorflow/core/common_runtime/pluggable_device/pluggable_device_factory.cc:306] Could not identify NUMA node of platform GPU ID 0, defaulting to 0. Your kernel may not have been built with NUMA support.\n",
      "2023-03-22 04:25:20.020632: I tensorflow/core/common_runtime/pluggable_device/pluggable_device_factory.cc:272] Created TensorFlow device (/job:localhost/replica:0/task:0/device:GPU:0 with 0 MB memory) -> physical PluggableDevice (device: 0, name: METAL, pci bus id: <undefined>)\n"
     ]
    }
   ],
   "source": [
    "model = Sequential()\n",
    "model.add(Dense(units=32, activation='relu', input_shape=(x_train.shape[1],)))\n",
    "model.add(Dense(units=32, activation='relu'))\n",
    "model.add(Dropout(0.50))\n",
    "model.add(Dense(units=32, activation='relu'))\n",
    "model.add(Dropout(0.5))\n",
    "model.add(Dense(units=2, activation='softmax'))\n"
   ]
  },
  {
   "cell_type": "code",
   "execution_count": 21,
   "id": "484cc60a",
   "metadata": {},
   "outputs": [
    {
     "name": "stdout",
     "output_type": "stream",
     "text": [
      "Model: \"sequential\"\n",
      "_________________________________________________________________\n",
      " Layer (type)                Output Shape              Param #   \n",
      "=================================================================\n",
      " dense (Dense)               (None, 32)                736       \n",
      "                                                                 \n",
      " dense_1 (Dense)             (None, 32)                1056      \n",
      "                                                                 \n",
      " dropout (Dropout)           (None, 32)                0         \n",
      "                                                                 \n",
      " dense_2 (Dense)             (None, 32)                1056      \n",
      "                                                                 \n",
      " dropout_1 (Dropout)         (None, 32)                0         \n",
      "                                                                 \n",
      " dense_3 (Dense)             (None, 2)                 66        \n",
      "                                                                 \n",
      "=================================================================\n",
      "Total params: 2,914\n",
      "Trainable params: 2,914\n",
      "Non-trainable params: 0\n",
      "_________________________________________________________________\n"
     ]
    }
   ],
   "source": [
    "model.compile(optimizer='Adam', loss='categorical_crossentropy', metrics=['accuracy'])\n",
    "model.summary()"
   ]
  },
  {
   "cell_type": "code",
   "execution_count": 22,
   "id": "c5e7017a",
   "metadata": {},
   "outputs": [
    {
     "name": "stdout",
     "output_type": "stream",
     "text": [
      "Epoch 1/100\n"
     ]
    },
    {
     "name": "stderr",
     "output_type": "stream",
     "text": [
      "2023-03-22 04:27:29.592573: W tensorflow/core/platform/profile_utils/cpu_utils.cc:128] Failed to get CPU frequency: 0 Hz\n",
      "2023-03-22 04:27:29.773096: I tensorflow/core/grappler/optimizers/custom_graph_optimizer_registry.cc:114] Plugin optimizer for device_type GPU is enabled.\n"
     ]
    },
    {
     "name": "stdout",
     "output_type": "stream",
     "text": [
      "10/10 - 1s - loss: 1.4077 - accuracy: 0.5166 - val_loss: 0.7080 - val_accuracy: 0.6185 - 588ms/epoch - 59ms/step\n",
      "Epoch 2/100\n",
      "10/10 - 0s - loss: 0.8979 - accuracy: 0.5560 - val_loss: 0.5665 - val_accuracy: 0.7301 - 121ms/epoch - 12ms/step\n",
      "Epoch 3/100\n"
     ]
    },
    {
     "name": "stderr",
     "output_type": "stream",
     "text": [
      "2023-03-22 04:27:30.139053: I tensorflow/core/grappler/optimizers/custom_graph_optimizer_registry.cc:114] Plugin optimizer for device_type GPU is enabled.\n"
     ]
    },
    {
     "name": "stdout",
     "output_type": "stream",
     "text": [
      "10/10 - 0s - loss: 0.7039 - accuracy: 0.6048 - val_loss: 0.5377 - val_accuracy: 0.8089 - 120ms/epoch - 12ms/step\n",
      "Epoch 4/100\n",
      "10/10 - 0s - loss: 0.6358 - accuracy: 0.6430 - val_loss: 0.5218 - val_accuracy: 0.8458 - 126ms/epoch - 13ms/step\n",
      "Epoch 5/100\n",
      "10/10 - 0s - loss: 0.5883 - accuracy: 0.6785 - val_loss: 0.4867 - val_accuracy: 0.8499 - 117ms/epoch - 12ms/step\n",
      "Epoch 6/100\n",
      "10/10 - 0s - loss: 0.5540 - accuracy: 0.7138 - val_loss: 0.4423 - val_accuracy: 0.8646 - 122ms/epoch - 12ms/step\n",
      "Epoch 7/100\n",
      "10/10 - 0s - loss: 0.5281 - accuracy: 0.7323 - val_loss: 0.4068 - val_accuracy: 0.8852 - 117ms/epoch - 12ms/step\n",
      "Epoch 8/100\n",
      "10/10 - 0s - loss: 0.4920 - accuracy: 0.7682 - val_loss: 0.3709 - val_accuracy: 0.8860 - 117ms/epoch - 12ms/step\n",
      "Epoch 9/100\n",
      "10/10 - 0s - loss: 0.4733 - accuracy: 0.7723 - val_loss: 0.3424 - val_accuracy: 0.8876 - 120ms/epoch - 12ms/step\n",
      "Epoch 10/100\n",
      "10/10 - 0s - loss: 0.4425 - accuracy: 0.7967 - val_loss: 0.3059 - val_accuracy: 0.8925 - 118ms/epoch - 12ms/step\n",
      "Epoch 11/100\n",
      "10/10 - 0s - loss: 0.4226 - accuracy: 0.8170 - val_loss: 0.2935 - val_accuracy: 0.8958 - 114ms/epoch - 11ms/step\n",
      "Epoch 12/100\n",
      "10/10 - 0s - loss: 0.3978 - accuracy: 0.8275 - val_loss: 0.2678 - val_accuracy: 0.8958 - 111ms/epoch - 11ms/step\n",
      "Epoch 13/100\n",
      "10/10 - 0s - loss: 0.3691 - accuracy: 0.8371 - val_loss: 0.2478 - val_accuracy: 0.9024 - 116ms/epoch - 12ms/step\n",
      "Epoch 14/100\n",
      "10/10 - 0s - loss: 0.3458 - accuracy: 0.8474 - val_loss: 0.2302 - val_accuracy: 0.9089 - 120ms/epoch - 12ms/step\n",
      "Epoch 15/100\n",
      "10/10 - 0s - loss: 0.3203 - accuracy: 0.8632 - val_loss: 0.2083 - val_accuracy: 0.9122 - 116ms/epoch - 12ms/step\n",
      "Epoch 16/100\n",
      "10/10 - 0s - loss: 0.2977 - accuracy: 0.8709 - val_loss: 0.1923 - val_accuracy: 0.9163 - 118ms/epoch - 12ms/step\n",
      "Epoch 17/100\n",
      "10/10 - 0s - loss: 0.2836 - accuracy: 0.8771 - val_loss: 0.1787 - val_accuracy: 0.9221 - 117ms/epoch - 12ms/step\n",
      "Epoch 18/100\n",
      "10/10 - 0s - loss: 0.2637 - accuracy: 0.8884 - val_loss: 0.1702 - val_accuracy: 0.9303 - 115ms/epoch - 11ms/step\n",
      "Epoch 19/100\n",
      "10/10 - 0s - loss: 0.2541 - accuracy: 0.8908 - val_loss: 0.1539 - val_accuracy: 0.9344 - 120ms/epoch - 12ms/step\n",
      "Epoch 20/100\n",
      "10/10 - 0s - loss: 0.2396 - accuracy: 0.8984 - val_loss: 0.1430 - val_accuracy: 0.9401 - 120ms/epoch - 12ms/step\n",
      "Epoch 21/100\n",
      "10/10 - 0s - loss: 0.2270 - accuracy: 0.9066 - val_loss: 0.1330 - val_accuracy: 0.9450 - 118ms/epoch - 12ms/step\n",
      "Epoch 22/100\n",
      "10/10 - 0s - loss: 0.2186 - accuracy: 0.9066 - val_loss: 0.1257 - val_accuracy: 0.9500 - 119ms/epoch - 12ms/step\n",
      "Epoch 23/100\n",
      "10/10 - 0s - loss: 0.2071 - accuracy: 0.9159 - val_loss: 0.1146 - val_accuracy: 0.9606 - 118ms/epoch - 12ms/step\n",
      "Epoch 24/100\n",
      "10/10 - 0s - loss: 0.1964 - accuracy: 0.9192 - val_loss: 0.1065 - val_accuracy: 0.9655 - 114ms/epoch - 11ms/step\n",
      "Epoch 25/100\n",
      "10/10 - 0s - loss: 0.1895 - accuracy: 0.9224 - val_loss: 0.0993 - val_accuracy: 0.9639 - 125ms/epoch - 12ms/step\n",
      "Epoch 26/100\n",
      "10/10 - 0s - loss: 0.1785 - accuracy: 0.9317 - val_loss: 0.0944 - val_accuracy: 0.9737 - 116ms/epoch - 12ms/step\n",
      "Epoch 27/100\n",
      "10/10 - 0s - loss: 0.1686 - accuracy: 0.9315 - val_loss: 0.0827 - val_accuracy: 0.9811 - 113ms/epoch - 11ms/step\n",
      "Epoch 28/100\n",
      "10/10 - 0s - loss: 0.1588 - accuracy: 0.9423 - val_loss: 0.0756 - val_accuracy: 0.9779 - 119ms/epoch - 12ms/step\n",
      "Epoch 29/100\n",
      "10/10 - 0s - loss: 0.1554 - accuracy: 0.9389 - val_loss: 0.0768 - val_accuracy: 0.9820 - 121ms/epoch - 12ms/step\n",
      "Epoch 30/100\n",
      "10/10 - 0s - loss: 0.1602 - accuracy: 0.9405 - val_loss: 0.0702 - val_accuracy: 0.9820 - 118ms/epoch - 12ms/step\n",
      "Epoch 31/100\n",
      "10/10 - 0s - loss: 0.1383 - accuracy: 0.9495 - val_loss: 0.0626 - val_accuracy: 0.9828 - 118ms/epoch - 12ms/step\n",
      "Epoch 32/100\n",
      "10/10 - 0s - loss: 0.1407 - accuracy: 0.9448 - val_loss: 0.0617 - val_accuracy: 0.9820 - 118ms/epoch - 12ms/step\n",
      "Epoch 33/100\n",
      "10/10 - 0s - loss: 0.1328 - accuracy: 0.9520 - val_loss: 0.0572 - val_accuracy: 0.9877 - 115ms/epoch - 12ms/step\n",
      "Epoch 34/100\n",
      "10/10 - 0s - loss: 0.1216 - accuracy: 0.9532 - val_loss: 0.0549 - val_accuracy: 0.9852 - 114ms/epoch - 11ms/step\n",
      "Epoch 35/100\n",
      "10/10 - 0s - loss: 0.1195 - accuracy: 0.9553 - val_loss: 0.0499 - val_accuracy: 0.9861 - 121ms/epoch - 12ms/step\n",
      "Epoch 36/100\n",
      "10/10 - 0s - loss: 0.1196 - accuracy: 0.9571 - val_loss: 0.0461 - val_accuracy: 0.9877 - 121ms/epoch - 12ms/step\n",
      "Epoch 37/100\n",
      "10/10 - 0s - loss: 0.1129 - accuracy: 0.9594 - val_loss: 0.0459 - val_accuracy: 0.9852 - 118ms/epoch - 12ms/step\n",
      "Epoch 38/100\n",
      "10/10 - 0s - loss: 0.1107 - accuracy: 0.9594 - val_loss: 0.0401 - val_accuracy: 0.9869 - 119ms/epoch - 12ms/step\n",
      "Epoch 39/100\n",
      "10/10 - 0s - loss: 0.1029 - accuracy: 0.9616 - val_loss: 0.0366 - val_accuracy: 0.9885 - 114ms/epoch - 11ms/step\n",
      "Epoch 40/100\n",
      "10/10 - 0s - loss: 0.0986 - accuracy: 0.9641 - val_loss: 0.0345 - val_accuracy: 0.9918 - 116ms/epoch - 12ms/step\n",
      "Epoch 41/100\n",
      "10/10 - 0s - loss: 0.0923 - accuracy: 0.9635 - val_loss: 0.0318 - val_accuracy: 0.9910 - 120ms/epoch - 12ms/step\n",
      "Epoch 42/100\n",
      "10/10 - 0s - loss: 0.0896 - accuracy: 0.9686 - val_loss: 0.0326 - val_accuracy: 0.9902 - 119ms/epoch - 12ms/step\n",
      "Epoch 43/100\n",
      "10/10 - 0s - loss: 0.0877 - accuracy: 0.9674 - val_loss: 0.0247 - val_accuracy: 0.9934 - 118ms/epoch - 12ms/step\n",
      "Epoch 44/100\n",
      "10/10 - 0s - loss: 0.0780 - accuracy: 0.9692 - val_loss: 0.0245 - val_accuracy: 0.9943 - 123ms/epoch - 12ms/step\n",
      "Epoch 45/100\n",
      "10/10 - 0s - loss: 0.0786 - accuracy: 0.9690 - val_loss: 0.0222 - val_accuracy: 0.9943 - 119ms/epoch - 12ms/step\n",
      "Epoch 46/100\n",
      "10/10 - 0s - loss: 0.0733 - accuracy: 0.9756 - val_loss: 0.0219 - val_accuracy: 0.9951 - 115ms/epoch - 11ms/step\n",
      "Epoch 47/100\n",
      "10/10 - 0s - loss: 0.0672 - accuracy: 0.9768 - val_loss: 0.0180 - val_accuracy: 0.9967 - 119ms/epoch - 12ms/step\n",
      "Epoch 48/100\n",
      "10/10 - 0s - loss: 0.0695 - accuracy: 0.9764 - val_loss: 0.0175 - val_accuracy: 0.9967 - 115ms/epoch - 12ms/step\n",
      "Epoch 49/100\n",
      "10/10 - 0s - loss: 0.0719 - accuracy: 0.9715 - val_loss: 0.0181 - val_accuracy: 0.9951 - 122ms/epoch - 12ms/step\n",
      "Epoch 50/100\n",
      "10/10 - 0s - loss: 0.0635 - accuracy: 0.9752 - val_loss: 0.0208 - val_accuracy: 0.9934 - 118ms/epoch - 12ms/step\n",
      "Epoch 51/100\n",
      "10/10 - 0s - loss: 0.0613 - accuracy: 0.9758 - val_loss: 0.0139 - val_accuracy: 0.9984 - 116ms/epoch - 12ms/step\n",
      "Epoch 52/100\n",
      "10/10 - 0s - loss: 0.0555 - accuracy: 0.9807 - val_loss: 0.0139 - val_accuracy: 0.9959 - 114ms/epoch - 11ms/step\n",
      "Epoch 53/100\n",
      "10/10 - 0s - loss: 0.0537 - accuracy: 0.9811 - val_loss: 0.0134 - val_accuracy: 0.9959 - 117ms/epoch - 12ms/step\n",
      "Epoch 54/100\n",
      "10/10 - 0s - loss: 0.0544 - accuracy: 0.9805 - val_loss: 0.0124 - val_accuracy: 0.9967 - 120ms/epoch - 12ms/step\n",
      "Epoch 55/100\n",
      "10/10 - 0s - loss: 0.0511 - accuracy: 0.9819 - val_loss: 0.0125 - val_accuracy: 0.9975 - 115ms/epoch - 12ms/step\n",
      "Epoch 56/100\n",
      "10/10 - 0s - loss: 0.0520 - accuracy: 0.9793 - val_loss: 0.0134 - val_accuracy: 0.9959 - 120ms/epoch - 12ms/step\n",
      "Epoch 57/100\n",
      "10/10 - 0s - loss: 0.0474 - accuracy: 0.9817 - val_loss: 0.0112 - val_accuracy: 0.9984 - 120ms/epoch - 12ms/step\n",
      "Epoch 58/100\n",
      "10/10 - 0s - loss: 0.0457 - accuracy: 0.9838 - val_loss: 0.0116 - val_accuracy: 0.9959 - 117ms/epoch - 12ms/step\n",
      "Epoch 59/100\n",
      "10/10 - 0s - loss: 0.0434 - accuracy: 0.9863 - val_loss: 0.0084 - val_accuracy: 0.9984 - 128ms/epoch - 13ms/step\n",
      "Epoch 60/100\n",
      "10/10 - 0s - loss: 0.0421 - accuracy: 0.9854 - val_loss: 0.0090 - val_accuracy: 0.9984 - 113ms/epoch - 11ms/step\n",
      "Epoch 61/100\n",
      "10/10 - 0s - loss: 0.0392 - accuracy: 0.9850 - val_loss: 0.0088 - val_accuracy: 0.9975 - 116ms/epoch - 12ms/step\n",
      "Epoch 62/100\n",
      "10/10 - 0s - loss: 0.0398 - accuracy: 0.9850 - val_loss: 0.0096 - val_accuracy: 0.9975 - 117ms/epoch - 12ms/step\n",
      "Epoch 63/100\n",
      "10/10 - 0s - loss: 0.0400 - accuracy: 0.9828 - val_loss: 0.0091 - val_accuracy: 0.9967 - 117ms/epoch - 12ms/step\n",
      "Epoch 64/100\n",
      "10/10 - 0s - loss: 0.0374 - accuracy: 0.9848 - val_loss: 0.0083 - val_accuracy: 0.9975 - 117ms/epoch - 12ms/step\n",
      "Epoch 65/100\n",
      "10/10 - 0s - loss: 0.0403 - accuracy: 0.9846 - val_loss: 0.0075 - val_accuracy: 0.9992 - 114ms/epoch - 11ms/step\n",
      "Epoch 66/100\n",
      "10/10 - 0s - loss: 0.0330 - accuracy: 0.9873 - val_loss: 0.0083 - val_accuracy: 0.9975 - 115ms/epoch - 12ms/step\n",
      "Epoch 67/100\n",
      "10/10 - 0s - loss: 0.0353 - accuracy: 0.9860 - val_loss: 0.0062 - val_accuracy: 0.9984 - 111ms/epoch - 11ms/step\n",
      "Epoch 68/100\n",
      "10/10 - 0s - loss: 0.0321 - accuracy: 0.9887 - val_loss: 0.0058 - val_accuracy: 0.9984 - 114ms/epoch - 11ms/step\n"
     ]
    },
    {
     "name": "stdout",
     "output_type": "stream",
     "text": [
      "Epoch 69/100\n",
      "10/10 - 0s - loss: 0.0324 - accuracy: 0.9883 - val_loss: 0.0071 - val_accuracy: 0.9967 - 115ms/epoch - 12ms/step\n",
      "Epoch 70/100\n",
      "10/10 - 0s - loss: 0.0331 - accuracy: 0.9885 - val_loss: 0.0060 - val_accuracy: 0.9992 - 114ms/epoch - 11ms/step\n",
      "Epoch 71/100\n",
      "10/10 - 0s - loss: 0.0313 - accuracy: 0.9873 - val_loss: 0.0055 - val_accuracy: 0.9992 - 109ms/epoch - 11ms/step\n",
      "Epoch 72/100\n",
      "10/10 - 0s - loss: 0.0315 - accuracy: 0.9881 - val_loss: 0.0047 - val_accuracy: 0.9992 - 112ms/epoch - 11ms/step\n",
      "Epoch 73/100\n",
      "10/10 - 0s - loss: 0.0290 - accuracy: 0.9897 - val_loss: 0.0065 - val_accuracy: 0.9984 - 110ms/epoch - 11ms/step\n",
      "Epoch 74/100\n",
      "10/10 - 0s - loss: 0.0284 - accuracy: 0.9897 - val_loss: 0.0044 - val_accuracy: 1.0000 - 113ms/epoch - 11ms/step\n",
      "Epoch 75/100\n",
      "10/10 - 0s - loss: 0.0302 - accuracy: 0.9873 - val_loss: 0.0043 - val_accuracy: 0.9992 - 117ms/epoch - 12ms/step\n",
      "Epoch 76/100\n",
      "10/10 - 0s - loss: 0.0281 - accuracy: 0.9897 - val_loss: 0.0060 - val_accuracy: 0.9984 - 116ms/epoch - 12ms/step\n",
      "Epoch 77/100\n",
      "10/10 - 0s - loss: 0.0244 - accuracy: 0.9895 - val_loss: 0.0037 - val_accuracy: 1.0000 - 116ms/epoch - 12ms/step\n",
      "Epoch 78/100\n",
      "10/10 - 0s - loss: 0.0290 - accuracy: 0.9893 - val_loss: 0.0032 - val_accuracy: 1.0000 - 117ms/epoch - 12ms/step\n",
      "Epoch 79/100\n",
      "10/10 - 0s - loss: 0.0220 - accuracy: 0.9918 - val_loss: 0.0047 - val_accuracy: 0.9984 - 116ms/epoch - 12ms/step\n",
      "Epoch 80/100\n",
      "10/10 - 0s - loss: 0.0249 - accuracy: 0.9904 - val_loss: 0.0027 - val_accuracy: 1.0000 - 115ms/epoch - 12ms/step\n",
      "Epoch 81/100\n",
      "10/10 - 0s - loss: 0.0233 - accuracy: 0.9918 - val_loss: 0.0033 - val_accuracy: 1.0000 - 116ms/epoch - 12ms/step\n",
      "Epoch 82/100\n",
      "10/10 - 0s - loss: 0.0231 - accuracy: 0.9904 - val_loss: 0.0035 - val_accuracy: 0.9992 - 113ms/epoch - 11ms/step\n",
      "Epoch 83/100\n",
      "10/10 - 0s - loss: 0.0210 - accuracy: 0.9922 - val_loss: 0.0030 - val_accuracy: 1.0000 - 114ms/epoch - 11ms/step\n",
      "Epoch 84/100\n",
      "10/10 - 0s - loss: 0.0219 - accuracy: 0.9930 - val_loss: 0.0030 - val_accuracy: 0.9992 - 115ms/epoch - 12ms/step\n",
      "Epoch 85/100\n",
      "10/10 - 0s - loss: 0.0225 - accuracy: 0.9893 - val_loss: 0.0027 - val_accuracy: 0.9992 - 115ms/epoch - 12ms/step\n",
      "Epoch 86/100\n",
      "10/10 - 0s - loss: 0.0183 - accuracy: 0.9926 - val_loss: 0.0021 - val_accuracy: 1.0000 - 112ms/epoch - 11ms/step\n",
      "Epoch 87/100\n",
      "10/10 - 0s - loss: 0.0215 - accuracy: 0.9906 - val_loss: 0.0032 - val_accuracy: 0.9992 - 115ms/epoch - 11ms/step\n",
      "Epoch 88/100\n",
      "10/10 - 0s - loss: 0.0198 - accuracy: 0.9918 - val_loss: 0.0019 - val_accuracy: 1.0000 - 116ms/epoch - 12ms/step\n",
      "Epoch 89/100\n",
      "10/10 - 0s - loss: 0.0197 - accuracy: 0.9932 - val_loss: 0.0050 - val_accuracy: 0.9975 - 111ms/epoch - 11ms/step\n",
      "Epoch 90/100\n",
      "10/10 - 0s - loss: 0.0183 - accuracy: 0.9938 - val_loss: 0.0022 - val_accuracy: 0.9992 - 110ms/epoch - 11ms/step\n",
      "Epoch 91/100\n",
      "10/10 - 0s - loss: 0.0183 - accuracy: 0.9934 - val_loss: 0.0019 - val_accuracy: 1.0000 - 116ms/epoch - 12ms/step\n",
      "Epoch 92/100\n",
      "10/10 - 0s - loss: 0.0179 - accuracy: 0.9920 - val_loss: 0.0022 - val_accuracy: 0.9992 - 112ms/epoch - 11ms/step\n",
      "Epoch 93/100\n",
      "10/10 - 0s - loss: 0.0192 - accuracy: 0.9930 - val_loss: 0.0020 - val_accuracy: 1.0000 - 114ms/epoch - 11ms/step\n",
      "Epoch 94/100\n",
      "10/10 - 0s - loss: 0.0176 - accuracy: 0.9930 - val_loss: 0.0018 - val_accuracy: 1.0000 - 113ms/epoch - 11ms/step\n",
      "Epoch 95/100\n",
      "10/10 - 0s - loss: 0.0199 - accuracy: 0.9920 - val_loss: 0.0022 - val_accuracy: 1.0000 - 111ms/epoch - 11ms/step\n",
      "Epoch 96/100\n",
      "10/10 - 0s - loss: 0.0176 - accuracy: 0.9926 - val_loss: 0.0018 - val_accuracy: 1.0000 - 113ms/epoch - 11ms/step\n",
      "Epoch 97/100\n",
      "10/10 - 0s - loss: 0.0165 - accuracy: 0.9928 - val_loss: 0.0016 - val_accuracy: 1.0000 - 115ms/epoch - 12ms/step\n",
      "Epoch 98/100\n",
      "10/10 - 0s - loss: 0.0153 - accuracy: 0.9943 - val_loss: 0.0017 - val_accuracy: 1.0000 - 114ms/epoch - 11ms/step\n",
      "Epoch 99/100\n",
      "10/10 - 0s - loss: 0.0174 - accuracy: 0.9938 - val_loss: 0.0013 - val_accuracy: 1.0000 - 114ms/epoch - 11ms/step\n",
      "Epoch 100/100\n",
      "10/10 - 0s - loss: 0.0166 - accuracy: 0.9934 - val_loss: 0.0020 - val_accuracy: 0.9992 - 113ms/epoch - 11ms/step\n"
     ]
    },
    {
     "data": {
      "text/plain": [
       "<keras.callbacks.History at 0x292d45360>"
      ]
     },
     "execution_count": 22,
     "metadata": {},
     "output_type": "execute_result"
    }
   ],
   "source": [
    "model.fit(x_train, y_train, batch_size=500, epochs=100, validation_split=0.2, verbose=2)"
   ]
  },
  {
   "cell_type": "code",
   "execution_count": 23,
   "id": "fab19194",
   "metadata": {},
   "outputs": [
    {
     "name": "stdout",
     "output_type": "stream",
     "text": [
      "64/64 [==============================] - 0s 2ms/step\n",
      "[[9.9999285e-01 7.1559498e-06]\n",
      " [1.0000000e+00 4.1276511e-09]\n",
      " [1.0104298e-07 9.9999988e-01]\n",
      " [8.3123286e-10 1.0000000e+00]\n",
      " [3.0663581e-09 1.0000000e+00]]\n"
     ]
    },
    {
     "name": "stderr",
     "output_type": "stream",
     "text": [
      "2023-03-22 04:29:16.196077: I tensorflow/core/grappler/optimizers/custom_graph_optimizer_registry.cc:114] Plugin optimizer for device_type GPU is enabled.\n"
     ]
    }
   ],
   "source": [
    "prediction = model.predict(x_test)\n",
    "print(prediction[:5])"
   ]
  },
  {
   "cell_type": "code",
   "execution_count": 24,
   "id": "ba339b7a",
   "metadata": {},
   "outputs": [
    {
     "name": "stdout",
     "output_type": "stream",
     "text": [
      "[0 0 1 1 1]\n"
     ]
    }
   ],
   "source": [
    "prediction = np.argmax(prediction, axis=-1)\n",
    "print(prediction[:5])"
   ]
  },
  {
   "cell_type": "code",
   "execution_count": 25,
   "id": "288c2860",
   "metadata": {},
   "outputs": [],
   "source": [
    "from sklearn.metrics import accuracy_score, confusion_matrix"
   ]
  },
  {
   "cell_type": "code",
   "execution_count": 26,
   "id": "19264d29",
   "metadata": {},
   "outputs": [
    {
     "name": "stdout",
     "output_type": "stream",
     "text": [
      "0.9965534219596258\n"
     ]
    }
   ],
   "source": [
    "ac_score = accuracy_score(y_test, prediction)\n",
    "print(ac_score)"
   ]
  },
  {
   "cell_type": "code",
   "execution_count": 27,
   "id": "5e795553",
   "metadata": {},
   "outputs": [
    {
     "name": "stdout",
     "output_type": "stream",
     "text": [
      "[[1057    0]\n",
      " [   7  967]]\n"
     ]
    }
   ],
   "source": [
    "con_matrix = confusion_matrix(y_test, prediction)\n",
    "print(con_matrix)"
   ]
  },
  {
   "cell_type": "code",
   "execution_count": 31,
   "id": "736d12a4",
   "metadata": {},
   "outputs": [
    {
     "data": {
      "text/plain": [
       "Text(50.722222222222214, 0.5, 'actual')"
      ]
     },
     "execution_count": 31,
     "metadata": {},
     "output_type": "execute_result"
    },
    {
     "data": {
      "image/png": "[encoded data removed]",
      "text/plain": [
       "<Figure size 640x480 with 2 Axes>"
      ]
     },
     "metadata": {},
     "output_type": "display_data"
    }
   ],
   "source": [
    "label = ['edible','poisonous']\n",
    "ax = sns.heatmap(con_matrix, annot=True, fmt='d', cmap='Reds', xticklabels=label, yticklabels=label)\n",
    "ax.set_title('Confusion matrix for mushroom dataset')\n",
    "ax.set_xlabel('prediction', fontsize=14)\n",
    "ax.set_ylabel('actual', fontsize=14)"
   ]
  },
  {
   "cell_type": "code",
   "execution_count": null,
   "id": "c7adf689",
   "metadata": {},
   "outputs": [],
   "source": []
  }
 ],
 "metadata": {
  "kernelspec": {
   "display_name": "Python 3 (ipykernel)",
   "language": "python",
   "name": "python3"
  },
  "language_info": {
   "codemirror_mode": {
    "name": "ipython",
    "version": 3
   },
   "file_extension": ".py",
   "mimetype": "text/x-python",
   "name": "python",
   "nbconvert_exporter": "python",
   "pygments_lexer": "ipython3",
   "version": "3.10.8"
  }
 },
 "nbformat": 4,
 "nbformat_minor": 5
}
